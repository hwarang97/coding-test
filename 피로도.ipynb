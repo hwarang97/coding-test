{
  "nbformat": 4,
  "nbformat_minor": 0,
  "metadata": {
    "colab": {
      "provenance": [],
      "authorship_tag": "ABX9TyPBcBY0F2fX7KvEH/oCAJ1R",
      "include_colab_link": true
    },
    "kernelspec": {
      "name": "python3",
      "display_name": "Python 3"
    },
    "language_info": {
      "name": "python"
    }
  },
  "cells": [
    {
      "cell_type": "markdown",
      "metadata": {
        "id": "view-in-github",
        "colab_type": "text"
      },
      "source": [
        "<a href=\"https://colab.research.google.com/github/hwarang97/coding-test/blob/main/%ED%94%BC%EB%A1%9C%EB%8F%84.ipynb\" target=\"_parent\"><img src=\"https://colab.research.google.com/assets/colab-badge.svg\" alt=\"Open In Colab\"/></a>"
      ]
    },
    {
      "cell_type": "code",
      "execution_count": 16,
      "metadata": {
        "id": "Hh8LPo0HFS9O"
      },
      "outputs": [],
      "source": [
        "from collections import deque\n",
        "\n",
        "m = 0 # 모듈 레벨: 모듈의 어떤 블록에도 속하지 않은 곳\n",
        "      # 모듈 레벨에 선언해야 전역변수로 활용\n",
        "\n",
        "def dfs_recursive(k, dungeons, cnt=0, visited=deque()):\n",
        "    global m # 전역변수를 사용하기 위해서 필요한 코드\n",
        "    for dungeon in dungeons:\n",
        "        if dungeon not in visited and k >= dungeon[0]:\n",
        "            visited.append(dungeon)\n",
        "            dfs_recursive(k-dungeon[1], dungeons, cnt+1, visited)\n",
        "            visited.remove(dungeon) # 다시 돌아간다 기능 (핵심)\n",
        "\n",
        "    # print(visited)\n",
        "    # print(cnt) # 몇번 진행되었는지 확인\n",
        "    m = max(cnt, m)\n",
        "    # print(m)\n",
        "\n",
        "\n",
        "def solution(k, dungeons):\n",
        "    dfs_recursive(k, dungeons)\n",
        "    return m"
      ]
    },
    {
      "cell_type": "code",
      "source": [
        "k = 80\n",
        "dungeons = [[80,20],[50,40],[30,10]]"
      ],
      "metadata": {
        "id": "I37H1c1VJW2G"
      },
      "execution_count": 17,
      "outputs": []
    },
    {
      "cell_type": "code",
      "source": [
        "solution(k, dungeons)"
      ],
      "metadata": {
        "colab": {
          "base_uri": "https://localhost:8080/"
        },
        "id": "f_haEFvbFV--",
        "outputId": "04829aa0-d94d-489f-a975-69833ed4d500"
      },
      "execution_count": 18,
      "outputs": [
        {
          "output_type": "execute_result",
          "data": {
            "text/plain": [
              "3"
            ]
          },
          "metadata": {},
          "execution_count": 18
        }
      ]
    }
  ]
}