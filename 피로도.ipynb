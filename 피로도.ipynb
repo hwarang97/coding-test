{
  "nbformat": 4,
  "nbformat_minor": 0,
  "metadata": {
    "colab": {
      "provenance": [],
      "authorship_tag": "ABX9TyMtR2fiS0JKuFG1P5oeuc/K",
      "include_colab_link": true
    },
    "kernelspec": {
      "name": "python3",
      "display_name": "Python 3"
    },
    "language_info": {
      "name": "python"
    }
  },
  "cells": [
    {
      "cell_type": "markdown",
      "metadata": {
        "id": "view-in-github",
        "colab_type": "text"
      },
      "source": [
        "<a href=\"https://colab.research.google.com/github/hwarang97/coding-test/blob/main/%ED%94%BC%EB%A1%9C%EB%8F%84.ipynb\" target=\"_parent\"><img src=\"https://colab.research.google.com/assets/colab-badge.svg\" alt=\"Open In Colab\"/></a>"
      ]
    },
    {
      "cell_type": "markdown",
      "source": [
        "# DFS를 재귀함수로 푸는 방법"
      ],
      "metadata": {
        "id": "5LcZ5KtlCVwz"
      }
    },
    {
      "cell_type": "code",
      "execution_count": 1,
      "metadata": {
        "id": "Hh8LPo0HFS9O"
      },
      "outputs": [],
      "source": [
        "from collections import deque\n",
        "\n",
        "m = 0 # 모듈 레벨: 모듈의 어떤 블록에도 속하지 않은 곳\n",
        "      # 모듈 레벨에 선언해야 전역변수로 활용\n",
        "\n",
        "def dfs_recursive(k, dungeons, cnt=0, visited=deque()):\n",
        "    global m # 전역변수를 사용하기 위해서 필요한 코드\n",
        "    for dungeon in dungeons:\n",
        "        if dungeon not in visited and k >= dungeon[0]:\n",
        "            visited.append(dungeon)\n",
        "            dfs_recursive(k-dungeon[1], dungeons, cnt+1, visited)\n",
        "            visited.remove(dungeon) # 다시 돌아간다 기능 (핵심)\n",
        "\n",
        "    m = max(cnt, m)\n",
        "\n",
        "def solution(k, dungeons):\n",
        "    dfs_recursive(k, dungeons)\n",
        "    return m"
      ]
    },
    {
      "cell_type": "code",
      "source": [
        "k = 80\n",
        "dungeons = [[80,20],[50,40],[30,10]]"
      ],
      "metadata": {
        "id": "I37H1c1VJW2G"
      },
      "execution_count": null,
      "outputs": []
    },
    {
      "cell_type": "code",
      "source": [
        "solution(k, dungeons)"
      ],
      "metadata": {
        "colab": {
          "base_uri": "https://localhost:8080/"
        },
        "id": "f_haEFvbFV--",
        "outputId": "04829aa0-d94d-489f-a975-69833ed4d500"
      },
      "execution_count": null,
      "outputs": [
        {
          "output_type": "execute_result",
          "data": {
            "text/plain": [
              "3"
            ]
          },
          "metadata": {},
          "execution_count": 18
        }
      ]
    },
    {
      "cell_type": "markdown",
      "source": [
        "# DFS를 리스트와 스택을 이용해서 푸는 방법 (잘 안되는데, 다른 사람의 풀이를 먼저 이해해보고 적용해보자)"
      ],
      "metadata": {
        "id": "q26x0qbCCZFx"
      }
    },
    {
      "cell_type": "code",
      "source": [
        "from collections import deque\n",
        "\n",
        "def dfs(dungeons, k):\n",
        "    visited, need_visited = list(), deque()\n",
        "    need_visited.extend(dungeons)\n",
        "    m = 0\n",
        "\n",
        "    cnt = 0\n",
        "    while need_visited: # 끝까지 탐색하게 되는 이유\n",
        "        # dungeon = need_visited.pop() # 탐색 방향이 한방향인 이유\n",
        "\n",
        "        if dungeon not in visited and k >= dungeon[1]:\n",
        "            visited.append(dungeon)\n",
        "            need_visisted.append()\n",
        "            k -= dungeon[0]\n",
        "            cnt += 1\n",
        "\n",
        "    m = max(m, cnt)\n",
        "\n",
        "    return m"
      ],
      "metadata": {
        "id": "Dou9EwbGCdV_"
      },
      "execution_count": null,
      "outputs": []
    },
    {
      "cell_type": "code",
      "source": [
        "from collections import deque\n",
        "\n",
        "def dfs(dungeons, k):\n",
        "    visited = deque()\n",
        "    cnt = 0\n",
        "\n",
        "    visited.append()\n",
        "    while visited:\n"
      ],
      "metadata": {
        "id": "thiDfeD6PcL5"
      },
      "execution_count": null,
      "outputs": []
    }
  ]
}