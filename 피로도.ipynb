{
  "nbformat": 4,
  "nbformat_minor": 0,
  "metadata": {
    "colab": {
      "provenance": [],
      "authorship_tag": "ABX9TyPUwP0bZRQFEmSCipL2kAgT",
      "include_colab_link": true
    },
    "kernelspec": {
      "name": "python3",
      "display_name": "Python 3"
    },
    "language_info": {
      "name": "python"
    }
  },
  "cells": [
    {
      "cell_type": "markdown",
      "metadata": {
        "id": "view-in-github",
        "colab_type": "text"
      },
      "source": [
        "<a href=\"https://colab.research.google.com/github/hwarang97/coding-test/blob/main/%ED%94%BC%EB%A1%9C%EB%8F%84.ipynb\" target=\"_parent\"><img src=\"https://colab.research.google.com/assets/colab-badge.svg\" alt=\"Open In Colab\"/></a>"
      ]
    },
    {
      "cell_type": "markdown",
      "source": [
        "# DFS를 재귀함수로 푸는 방법"
      ],
      "metadata": {
        "id": "5LcZ5KtlCVwz"
      }
    },
    {
      "cell_type": "code",
      "execution_count": null,
      "metadata": {
        "id": "Hh8LPo0HFS9O"
      },
      "outputs": [],
      "source": [
        "from collections import deque\n",
        "\n",
        "m = 0 # 모듈 레벨: 모듈의 어떤 블록에도 속하지 않은 곳\n",
        "      # 모듈 레벨에 선언해야 전역변수로 활용\n",
        "\n",
        "def dfs_recursive(k, dungeons, cnt=0, visited=deque()):\n",
        "    global m # 전역변수를 사용하기 위해서 필요한 코드\n",
        "    for dungeon in dungeons:\n",
        "        if dungeon not in visited and k >= dungeon[0]:\n",
        "            visited.append(dungeon)\n",
        "            dfs_recursive(k-dungeon[1], dungeons, cnt+1, visited)\n",
        "            visited.remove(dungeon) # 다시 돌아간다 기능 (핵심)\n",
        "\n",
        "    m = max(cnt, m)\n",
        "\n",
        "def solution(k, dungeons):\n",
        "    dfs_recursive(k, dungeons)\n",
        "    return m"
      ]
    },
    {
      "cell_type": "code",
      "source": [
        "k = 80\n",
        "dungeons = [[80,20],[50,40],[30,10]]"
      ],
      "metadata": {
        "id": "I37H1c1VJW2G"
      },
      "execution_count": null,
      "outputs": []
    },
    {
      "cell_type": "code",
      "source": [
        "solution(k, dungeons)"
      ],
      "metadata": {
        "colab": {
          "base_uri": "https://localhost:8080/"
        },
        "id": "f_haEFvbFV--",
        "outputId": "04829aa0-d94d-489f-a975-69833ed4d500"
      },
      "execution_count": null,
      "outputs": [
        {
          "output_type": "execute_result",
          "data": {
            "text/plain": [
              "3"
            ]
          },
          "metadata": {},
          "execution_count": 18
        }
      ]
    },
    {
      "cell_type": "markdown",
      "source": [
        "# Permutation 활용 (재귀를 쓰지 않고 해결하는 방법)"
      ],
      "metadata": {
        "id": "JLBIEuV1qpqw"
      }
    },
    {
      "cell_type": "markdown",
      "source": [
        "재귀 함수 방법은 스택 오버플로우를 일으킬 수 있다고 지양하라는 말이 있었다. 이것에 대해서는 더 조사해보도록 하자."
      ],
      "metadata": {
        "id": "BeRY4DFvrTMk"
      }
    },
    {
      "cell_type": "markdown",
      "source": [
        "던전으로 무작위 순열을 만듬\n",
        "하나의 순열을 순차적으로 접근하면서, 몇번까지 던전을 도는지를 n으로 카운트함.\n",
        "\n",
        "남은 피로도가 필요 피로도보다 작으면, m과 n을 비교해서 최댓값을 m에 갱신함.\n",
        "\n",
        "남은 피로도가 필요 피로도보다 같거나 크면, 피로도를 소모 피로도만큼 감소시킴.\n",
        "\n",
        "만약 반복문이 전부 실행되었다면, n이 아닌 던전 배열의 크기를 반환함(모든 던전을 임의의 순서로 돌았다는 말)\n",
        "\n",
        "그게 아니라면 m을 반환함"
      ],
      "metadata": {
        "id": "831oinMLzI_k"
      }
    },
    {
      "cell_type": "code",
      "source": [
        "from itertools import permutations\n",
        "\n",
        "def solution(k, dungeons):\n",
        "    m = 0\n",
        "    l = len(dungeons)\n",
        "    for case in permutations(dungeons):\n",
        "        tired = k\n",
        "        for th, dungeon in enumerate(case):\n",
        "            if tired >= dungeon[0]:\n",
        "                tired -= dungeon[1]\n",
        "            else:\n",
        "                m = max(th, m) # 나머지 던전은 돌지 않으므로 계산량을 줄어듬\n",
        "                break\n",
        "        else:\n",
        "            return l\n",
        "    return m"
      ],
      "metadata": {
        "id": "z21AKzbFz04b"
      },
      "execution_count": 16,
      "outputs": []
    },
    {
      "cell_type": "code",
      "source": [
        "k = 80\n",
        "dungeons = [[50,40],[80,20],[30,10]]"
      ],
      "metadata": {
        "id": "8pUzoRMtrsc3"
      },
      "execution_count": 17,
      "outputs": []
    },
    {
      "cell_type": "code",
      "source": [
        "solution(k, dungeons)"
      ],
      "metadata": {
        "colab": {
          "base_uri": "https://localhost:8080/"
        },
        "outputId": "91faded9-7a42-4f09-f0cf-80b246291e3d",
        "id": "0hdF8M87rsc4"
      },
      "execution_count": 18,
      "outputs": [
        {
          "output_type": "execute_result",
          "data": {
            "text/plain": [
              "3"
            ]
          },
          "metadata": {},
          "execution_count": 18
        }
      ]
    }
  ]
}