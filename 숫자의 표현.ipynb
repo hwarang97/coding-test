{
  "nbformat": 4,
  "nbformat_minor": 0,
  "metadata": {
    "colab": {
      "provenance": [],
      "authorship_tag": "ABX9TyN6TGXvjDb8mM3vO9xIs5Zy",
      "include_colab_link": true
    },
    "kernelspec": {
      "name": "python3",
      "display_name": "Python 3"
    },
    "language_info": {
      "name": "python"
    }
  },
  "cells": [
    {
      "cell_type": "markdown",
      "metadata": {
        "id": "view-in-github",
        "colab_type": "text"
      },
      "source": [
        "<a href=\"https://colab.research.google.com/github/hwarang97/coding-test/blob/main/%EC%88%AB%EC%9E%90%EC%9D%98%20%ED%91%9C%ED%98%84.ipynb\" target=\"_parent\"><img src=\"https://colab.research.google.com/assets/colab-badge.svg\" alt=\"Open In Colab\"/></a>"
      ]
    },
    {
      "cell_type": "markdown",
      "source": [
        "# 무작위로 경우를 센 경우"
      ],
      "metadata": {
        "id": "vF64Vv9JlCte"
      }
    },
    {
      "cell_type": "code",
      "execution_count": 1,
      "metadata": {
        "id": "ASJyBxsLk_lm"
      },
      "outputs": [],
      "source": [
        "def solution1(n):\n",
        "     count = 0\n",
        "\n",
        "     for j in range(1,n+1):\n",
        "         acc = 0\n",
        "         for start in range(j,n+1):\n",
        "             if acc < n:\n",
        "                 acc += start\n",
        "             if acc == n:\n",
        "                 count += 1\n",
        "                 break\n",
        "             if acc > n:\n",
        "                 break\n",
        "\n",
        "\n",
        "     answer = count\n",
        "     return answer"
      ]
    },
    {
      "cell_type": "code",
      "source": [
        "n = 15\n",
        "solution1(n)"
      ],
      "metadata": {
        "colab": {
          "base_uri": "https://localhost:8080/"
        },
        "id": "w2PzUH83lJi_",
        "outputId": "299e0898-15ba-4bac-d675-9c3fad4ce287"
      },
      "execution_count": 2,
      "outputs": [
        {
          "output_type": "execute_result",
          "data": {
            "text/plain": [
              "4"
            ]
          },
          "metadata": {},
          "execution_count": 2
        }
      ]
    },
    {
      "cell_type": "markdown",
      "source": [
        "# 수학적으로 풀어낸 경우"
      ],
      "metadata": {
        "id": "RUxrU0NelGJN"
      }
    },
    {
      "cell_type": "code",
      "source": [
        "def solution2(n):\n",
        "\n",
        "    count = 0\n",
        "    divider = 1\n",
        "    while divider <= n:\n",
        "        if n%divider == 0:\n",
        "            count += 1\n",
        "        divider += 2\n",
        "\n",
        "    return count"
      ],
      "metadata": {
        "id": "UHJBCzsLlBbt"
      },
      "execution_count": 3,
      "outputs": []
    },
    {
      "cell_type": "code",
      "source": [
        "n = 15\n",
        "solution2(n)"
      ],
      "metadata": {
        "colab": {
          "base_uri": "https://localhost:8080/"
        },
        "id": "IFN-LcymlJJA",
        "outputId": "9c1d5e3d-8671-42ee-c021-c09049bc5417"
      },
      "execution_count": 4,
      "outputs": [
        {
          "output_type": "execute_result",
          "data": {
            "text/plain": [
              "4"
            ]
          },
          "metadata": {},
          "execution_count": 4
        }
      ]
    }
  ]
}