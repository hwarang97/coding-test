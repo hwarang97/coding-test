{
  "nbformat": 4,
  "nbformat_minor": 0,
  "metadata": {
    "colab": {
      "provenance": [],
      "authorship_tag": "ABX9TyMUOl8DYWzEnNodUxdT5ezV",
      "include_colab_link": true
    },
    "kernelspec": {
      "name": "python3",
      "display_name": "Python 3"
    },
    "language_info": {
      "name": "python"
    }
  },
  "cells": [
    {
      "cell_type": "markdown",
      "metadata": {
        "id": "view-in-github",
        "colab_type": "text"
      },
      "source": [
        "<a href=\"https://colab.research.google.com/github/hwarang97/coding-test/blob/main/%EB%8B%A4%EC%9D%8C%20%ED%81%B0%20%EC%88%AB%EC%9E%90.ipynb\" target=\"_parent\"><img src=\"https://colab.research.google.com/assets/colab-badge.svg\" alt=\"Open In Colab\"/></a>"
      ]
    },
    {
      "cell_type": "code",
      "execution_count": null,
      "metadata": {
        "id": "7urozkrJEAej"
      },
      "outputs": [],
      "source": [
        "from collections import deque\n",
        "\n",
        "def solution(n):\n",
        "\n",
        "    # 더 큰 숫자는 큰것중에서 가장 작은것\n",
        "    # 1의 갯수는 동일하다\n",
        "    # 숫자배열에 1이 아닌 0이 들어가는것이 더 작을것이고, 0이 앞에서 2번째에 들어가는것이 제일 작을 것이다\n",
        "\n",
        "    # 문자열의 모든 수가 1인 경우\n",
        "    # 1011 < 1101 < 1110 (문자열의 모든 수가 1인 경우)\n",
        "\n",
        "    # 모든 수가 1이 아닌 경우는\n",
        "    # 1중 하나는 한칸위로, 나머지 1은 뒤쪽에서부터 배치.\n",
        "\n",
        "    # 자연수 -> 이진수(문자열) -> 다음큰수(문자열) -> 다음큰수(자연수)\n",
        "\n",
        "\n",
        "    # n = 3\n",
        "    bi_n = bin(n)\n",
        "    # print(bi_n)\n",
        "\n",
        "    if '0' in bi_n[2:]:\n",
        "        # 0도 있는 경우\n",
        "\n",
        "        count = bi_n.count('1') -2 # 계산할 때 2를 뺴야함 (하나는 맨앞의 1, 하나는 그 다음의 1)\n",
        "        length = len(bi_n)\n",
        "        target = -1\n",
        "\n",
        "        # print(length)\n",
        "\n",
        "        for idx, value in enumerate(bi_n[3:]):\n",
        "            if value == '1':\n",
        "                target = idx + 2\n",
        "                break\n",
        "\n",
        "        # 앞의 세개는 b,0.1 문자열, idx 자리에1, 나머지 1의 갯수만큼을 전부 1로 만들기, 이때 1의 갯수가 0이하일경우는 패스\n",
        "        l = ['0' for _ in range(length)]\n",
        "        l[1], l[2] = 'b', '1'\n",
        "        l[target] = '1'\n",
        "        if count > 0:\n",
        "            start = -count\n",
        "            l[start:] = ['1' for _ in range(count)] # 여기서 왜 리스트가 잘리는거지?\n",
        "            # 3개가 '1'로 퉁 쳐버리는것. 각각 하나씩 들어가는 대입 연산이 될려면 iterable한 객체여야함\n",
        "            # print(l, 'asdfasdf')\n",
        "\n",
        "        # 1이 하나 잘리는 경우가 생김. 다시 확인해보자.\n",
        "\n",
        "    else:\n",
        "        # 1만 있는 경우\n",
        "        l = deque(bi_n)\n",
        "        l.insert(3, '0')\n",
        "\n",
        "    next_n = int(''.join(l),2)\n",
        "    answer = next_n\n",
        "    return answer"
      ]
    },
    {
      "cell_type": "code",
      "source": [
        "n = 78\n",
        "solution(n) # 83"
      ],
      "metadata": {
        "colab": {
          "base_uri": "https://localhost:8080/"
        },
        "id": "xIiqaowDECuB",
        "outputId": "52511eed-9f77-4da7-8944-db8673b4fc0a"
      },
      "execution_count": null,
      "outputs": [
        {
          "output_type": "execute_result",
          "data": {
            "text/plain": [
              "83"
            ]
          },
          "metadata": {},
          "execution_count": 109
        }
      ]
    },
    {
      "cell_type": "code",
      "source": [
        "l = ['0' for _ in range(9)]\n",
        "print(l)"
      ],
      "metadata": {
        "colab": {
          "base_uri": "https://localhost:8080/"
        },
        "id": "xKjSLFTqhlpr",
        "outputId": "121cb85a-f342-495e-8ae1-fd92ac1bb026"
      },
      "execution_count": null,
      "outputs": [
        {
          "output_type": "stream",
          "name": "stdout",
          "text": [
            "['0', '0', '0', '0', '0', '0', '0', '0', '0']\n"
          ]
        }
      ]
    },
    {
      "cell_type": "code",
      "source": [
        "def solution(n):\n",
        "    answer = 0\n",
        "    bi = bin(n)[2:]\n",
        "    for number in range(n+1, 1000000): # n은 1000000 이하의 자연수\n",
        "        next_bi = bin(number)\n",
        "        if next_bi.count('1') == bi.count('1'):\n",
        "            answer = int(next_bi, 2)\n",
        "            break\n",
        "\n",
        "    return answer"
      ],
      "metadata": {
        "id": "k90G6IwI9r8q"
      },
      "execution_count": 2,
      "outputs": []
    },
    {
      "cell_type": "code",
      "source": [
        "n = 78\n",
        "solution(n) # 83"
      ],
      "metadata": {
        "id": "t3iY53YM-rvg",
        "outputId": "9eafa35c-c4d2-494c-a13c-41c20e74378e",
        "colab": {
          "base_uri": "https://localhost:8080/"
        }
      },
      "execution_count": 3,
      "outputs": [
        {
          "output_type": "execute_result",
          "data": {
            "text/plain": [
              "83"
            ]
          },
          "metadata": {},
          "execution_count": 3
        }
      ]
    },
    {
      "cell_type": "markdown",
      "source": [
        "# 궁금한점\n",
        "\n",
        "왜 print(list(bi_n).insert(3, '0')) 를 실행시키면, None 값이 나올까??   \n",
        "적어도 리스트로 만들어진것을 반환해야하지 않나? 아니면 혹시 insert는 리스트 자체를 바꾸지 반환되는 값을 없는것인가??\n",
        "\n",
        "list.inset는 list 객체값을 변경하는 작업이지 반환하지는 않는다. remove를 포함한 다른 연산들도 마찬가지인것같다.\n",
        "\n",
        "========================\n",
        "\n",
        "'in \\<string>' requires string as left operand, not int   \n",
        "이건 무슨 오류일까?? 피연산자가 string이여야한다는 말인것같은데, in <string>은 무슨 뜻이지??\n",
        "\n",
        "=======================\n",
        "\n",
        "\\<string>은 객체타입을 나타낸것으로 보인다. 즉 in 다음에 string 객체가 온 상황은 in의 좌측 피연산자로 스트링 타입의 객체를 원하는데, int객체가 왔다는 내용이다.\n",
        "\n",
        "========================   \n",
        "xrange 에 대해서도 알아보자"
      ],
      "metadata": {
        "id": "-AkIN25FIfGf"
      }
    },
    {
      "cell_type": "markdown",
      "source": [
        "iterable한 객체라는 것은 반복문에 사용할 수 있다 정도로 해석하면 되는건가??   \n",
        "\n",
        "=========   \n",
        "\n",
        " # l[-3:] = '1' # 여기서 왜 리스트가 잘리는거지?\n",
        "            # 3개가 '1'로 퉁 쳐버리는것. 각각 하나씩 들어가는 대입 연산이 될려면 iterable한 객체여야함   \n",
        "\n",
        "\n",
        "['0', 'b', '1', '0', '1', '0', '0', '0', '0'] asfsfsf\n",
        "['0', 'b', '1', '0', '1', '0', '1'] asdfasdf\n",
        "['0', 'b', '1', '0', '1', '0', '1']   \n",
        "\n",
        "위의 코드에서 리스트 l의 마지막 3개 요소를 '1'로 바꾸려고 시도하였는데, 이 부분에서 리스트 대입 연산을 사용하면서 생긴 오류입니다. 리스트 대입 연산에서는 대입할 값이 반드시 리스트나 다른 반복 가능한(iterable) 객체여야 합니다. 그러나 '1'은 문자열이며, 이는 문자열도 반복 가능한 객체이기 때문에 각 문자를 리스트의 요소로 추가하는 방식으로 처리됩니다.\n",
        "\n",
        "따라서 '1' 문자열을 리스트로 변환하여 각 문자를 요소로 추가하게 되면, 리스트의 길이가 3개에서 1개로 줄어들게 됩니다.\n",
        "\n",
        "\n"
      ],
      "metadata": {
        "id": "bOS7FPcSKCdV"
      }
    },
    {
      "cell_type": "code",
      "source": [
        "# [1,0,0,1,1,0] -> [1,0,1,0,1]"
      ],
      "metadata": {
        "id": "5-g8GKH-Ntub"
      },
      "execution_count": null,
      "outputs": []
    },
    {
      "cell_type": "code",
      "source": [
        "a = ''\n",
        "for k in range(1,10):\n",
        "    a += 'k'\n",
        "\n",
        "print(a)"
      ],
      "metadata": {
        "colab": {
          "base_uri": "https://localhost:8080/"
        },
        "id": "C0y3sr2savPF",
        "outputId": "11acaf58-994d-425f-efce-f7825d8ebfcc"
      },
      "execution_count": null,
      "outputs": [
        {
          "output_type": "stream",
          "name": "stdout",
          "text": [
            "kkkkkkkkk\n"
          ]
        }
      ]
    },
    {
      "cell_type": "code",
      "source": [
        "# 배열이든 덱이든 메모리상에서 연속된 구조이고, 각 구조안에 메모리 참조할 메모리 주소가 들어있는것이라면\n",
        "# 인덱스 슬라이싱으로 다른 덱을 집어넣어도 될것같다\n",
        "# 덱은 인덱스 슬라이싱이 안되네\n",
        "\n",
        "a = deque([1,2,3,4,5])\n",
        "print(a[3])"
      ],
      "metadata": {
        "colab": {
          "base_uri": "https://localhost:8080/"
        },
        "id": "Rt9GOvEFTI9o",
        "outputId": "3c358635-89c9-4328-c524-cc0bb4ebd9cb"
      },
      "execution_count": null,
      "outputs": [
        {
          "output_type": "stream",
          "name": "stdout",
          "text": [
            "4\n"
          ]
        }
      ]
    },
    {
      "cell_type": "code",
      "source": [
        "a = [1,2,3,4,5]\n",
        "print(a.insert(2,1000)) # None\n",
        "print(a) # [1,2,1000,3,4,5]\n",
        "\n",
        "print(a.remove(1000)) # None\n",
        "print(a) # [1,2,3,4,5]"
      ],
      "metadata": {
        "colab": {
          "base_uri": "https://localhost:8080/"
        },
        "id": "U8Fhhlk3I9Zv",
        "outputId": "24ed2684-2595-448d-c8e2-3c9bd270e33d"
      },
      "execution_count": null,
      "outputs": [
        {
          "output_type": "stream",
          "name": "stdout",
          "text": [
            "None\n",
            "[1, 2, 1000, 3, 4, 5]\n",
            "None\n",
            "[1, 2, 3, 4, 5]\n"
          ]
        }
      ]
    },
    {
      "cell_type": "code",
      "source": [
        "n = 15\n",
        "solution(n) # 23"
      ],
      "metadata": {
        "id": "zMMk8ApSEJZB"
      },
      "execution_count": null,
      "outputs": []
    }
  ]
}